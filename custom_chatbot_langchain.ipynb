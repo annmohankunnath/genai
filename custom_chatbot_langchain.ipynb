{
 "cells": [
  {
   "cell_type": "markdown",
   "metadata": {},
   "source": [
    "# Build a custom chat bot for question answering"
   ]
  },
  {
   "cell_type": "markdown",
   "metadata": {},
   "source": [
    "## Dataset: \n",
    "\n",
    "This project uses a dataset containing fictional character descriptions from theater, television, and film. Each entry provides a brief profile of an imagined character, including personality traits, background, and setting. The dataset was chosen for its creative depth and potential to support a chatbot that can respond in character-driven or narrative-based scenarios. This customization is especially useful in contexts like storytelling, creative writing, or ideation sessions where access to diverse character types can enhance the experience.\n",
    "\n",
    "## Approach for customization:\n",
    "\n",
    "The customization uses a Retrieval-Augmented Generation (RAG) setup built with LangChain. Character data is converted into text documents, embedded using OpenAI's embedding model, and stored in a FAISS vector store for similarity-based retrieval. LangChain’s ConversationalRetrievalChain ties the retriever to the gpt-3.5-turbo model. When a question is asked, relevant context is retrieved and passed into the model to generate responses grounded in the dataset."
   ]
  },
  {
   "cell_type": "markdown",
   "metadata": {},
   "source": [
    "# 1.  Imports"
   ]
  },
  {
   "cell_type": "code",
   "execution_count": 1,
   "metadata": {},
   "outputs": [],
   "source": [
    "import pandas as pd\n",
    "from langchain.document_loaders import DataFrameLoader\n",
    "from langchain.vectorstores import FAISS\n",
    "from langchain_openai import OpenAIEmbeddings, ChatOpenAI\n",
    "from langchain.chains import ConversationalRetrievalChain\n",
    "from dotenv import load_dotenv\n",
    "import os\n",
    "import openai"
   ]
  },
  {
   "cell_type": "markdown",
   "metadata": {},
   "source": [
    "# 2. Load environment variables"
   ]
  },
  {
   "cell_type": "code",
   "execution_count": 2,
   "metadata": {},
   "outputs": [
    {
     "data": {
      "text/plain": [
       "True"
      ]
     },
     "execution_count": 2,
     "metadata": {},
     "output_type": "execute_result"
    }
   ],
   "source": [
    "# Load environment variables explicitly from .env\n",
    "load_dotenv()"
   ]
  },
  {
   "cell_type": "markdown",
   "metadata": {},
   "source": [
    "# 3. Set Open AI base and key"
   ]
  },
  {
   "cell_type": "code",
   "execution_count": 3,
   "metadata": {},
   "outputs": [],
   "source": [
    "openai.api_base = \"https://openai.vocareum.com/v1\"\n",
    "openai_api_key = os.getenv(\"OPENAI_API_KEY\")"
   ]
  },
  {
   "cell_type": "markdown",
   "metadata": {},
   "source": [
    "# 4. Load and prepare the dataset\n",
    "\n",
    "This step loads the dataset and pulls in the character data and stitching together the name, description, medium, and setting—into one clean text column for the chatbot to use."
   ]
  },
  {
   "cell_type": "code",
   "execution_count": 4,
   "metadata": {},
   "outputs": [],
   "source": [
    "\n",
    "df = pd.read_csv('data/character_descriptions.csv')\n",
    "df['text'] = df['Name'] + \": \" + df['Description'] + \" (\" + df['Medium'] + \", \" + df['Setting'] + \")\""
   ]
  },
  {
   "cell_type": "code",
   "execution_count": 5,
   "metadata": {},
   "outputs": [
    {
     "data": {
      "text/html": [
       "<div>\n",
       "<style scoped>\n",
       "    .dataframe tbody tr th:only-of-type {\n",
       "        vertical-align: middle;\n",
       "    }\n",
       "\n",
       "    .dataframe tbody tr th {\n",
       "        vertical-align: top;\n",
       "    }\n",
       "\n",
       "    .dataframe thead th {\n",
       "        text-align: right;\n",
       "    }\n",
       "</style>\n",
       "<table border=\"1\" class=\"dataframe\">\n",
       "  <thead>\n",
       "    <tr style=\"text-align: right;\">\n",
       "      <th></th>\n",
       "      <th>Name</th>\n",
       "      <th>Description</th>\n",
       "      <th>text</th>\n",
       "    </tr>\n",
       "  </thead>\n",
       "  <tbody>\n",
       "    <tr>\n",
       "      <th>0</th>\n",
       "      <td>Emily</td>\n",
       "      <td>A young woman in her early 20s, Emily is an aspiring actress and Alice's daughter. She has a bubbly personality and a quick wit, but struggles with self-doubt and insecurity. She's also in a relationship with George.</td>\n",
       "      <td>Emily: A young woman in her early 20s, Emily is an aspiring actress and Alice's daughter. She has a bubbly personality and a quick wit, but struggles with self-doubt and insecurity. She's also in a relationship with George. (Play, England)</td>\n",
       "    </tr>\n",
       "    <tr>\n",
       "      <th>1</th>\n",
       "      <td>Jack</td>\n",
       "      <td>A middle-aged man in his 40s, Jack is a successful businessman and Sarah's boss. He has a no-nonsense attitude, but is fiercely loyal to his friends and family. He's married to Alice.</td>\n",
       "      <td>Jack: A middle-aged man in his 40s, Jack is a successful businessman and Sarah's boss. He has a no-nonsense attitude, but is fiercely loyal to his friends and family. He's married to Alice. (Play, England)</td>\n",
       "    </tr>\n",
       "    <tr>\n",
       "      <th>2</th>\n",
       "      <td>Alice</td>\n",
       "      <td>A woman in her late 30s, Alice is a warm and nurturing mother of two, including Emily. She's kind-hearted and empathetic, but can be overly protective of her children and prone to worrying. She's married to Jack.</td>\n",
       "      <td>Alice: A woman in her late 30s, Alice is a warm and nurturing mother of two, including Emily. She's kind-hearted and empathetic, but can be overly protective of her children and prone to worrying. She's married to Jack. (Play, England)</td>\n",
       "    </tr>\n",
       "    <tr>\n",
       "      <th>3</th>\n",
       "      <td>Tom</td>\n",
       "      <td>A man in his 50s, Tom is a retired soldier and John's son. He has a no-nonsense approach to life, but is haunted by his experiences in combat and struggles with PTSD. He's also in a relationship with Rachel.</td>\n",
       "      <td>Tom: A man in his 50s, Tom is a retired soldier and John's son. He has a no-nonsense approach to life, but is haunted by his experiences in combat and struggles with PTSD. He's also in a relationship with Rachel. (Play, England)</td>\n",
       "    </tr>\n",
       "    <tr>\n",
       "      <th>4</th>\n",
       "      <td>Sarah</td>\n",
       "      <td>A woman in her mid-20s, Sarah is a free-spirited artist and Jack's employee. She's creative, unconventional, and passionate about her work. However, she can also be flighty and impulsive at times.</td>\n",
       "      <td>Sarah: A woman in her mid-20s, Sarah is a free-spirited artist and Jack's employee. She's creative, unconventional, and passionate about her work. However, she can also be flighty and impulsive at times. (Play, England)</td>\n",
       "    </tr>\n",
       "  </tbody>\n",
       "</table>\n",
       "</div>"
      ],
      "text/plain": [
       "    Name  \\\n",
       "0  Emily   \n",
       "1   Jack   \n",
       "2  Alice   \n",
       "3    Tom   \n",
       "4  Sarah   \n",
       "\n",
       "                                                                                                                                                                                                                Description  \\\n",
       "0  A young woman in her early 20s, Emily is an aspiring actress and Alice's daughter. She has a bubbly personality and a quick wit, but struggles with self-doubt and insecurity. She's also in a relationship with George.   \n",
       "1                                   A middle-aged man in his 40s, Jack is a successful businessman and Sarah's boss. He has a no-nonsense attitude, but is fiercely loyal to his friends and family. He's married to Alice.   \n",
       "2      A woman in her late 30s, Alice is a warm and nurturing mother of two, including Emily. She's kind-hearted and empathetic, but can be overly protective of her children and prone to worrying. She's married to Jack.   \n",
       "3           A man in his 50s, Tom is a retired soldier and John's son. He has a no-nonsense approach to life, but is haunted by his experiences in combat and struggles with PTSD. He's also in a relationship with Rachel.   \n",
       "4                      A woman in her mid-20s, Sarah is a free-spirited artist and Jack's employee. She's creative, unconventional, and passionate about her work. However, she can also be flighty and impulsive at times.   \n",
       "\n",
       "                                                                                                                                                                                                                                              text  \n",
       "0  Emily: A young woman in her early 20s, Emily is an aspiring actress and Alice's daughter. She has a bubbly personality and a quick wit, but struggles with self-doubt and insecurity. She's also in a relationship with George. (Play, England)  \n",
       "1                                    Jack: A middle-aged man in his 40s, Jack is a successful businessman and Sarah's boss. He has a no-nonsense attitude, but is fiercely loyal to his friends and family. He's married to Alice. (Play, England)  \n",
       "2      Alice: A woman in her late 30s, Alice is a warm and nurturing mother of two, including Emily. She's kind-hearted and empathetic, but can be overly protective of her children and prone to worrying. She's married to Jack. (Play, England)  \n",
       "3             Tom: A man in his 50s, Tom is a retired soldier and John's son. He has a no-nonsense approach to life, but is haunted by his experiences in combat and struggles with PTSD. He's also in a relationship with Rachel. (Play, England)  \n",
       "4                      Sarah: A woman in her mid-20s, Sarah is a free-spirited artist and Jack's employee. She's creative, unconventional, and passionate about her work. However, she can also be flighty and impulsive at times. (Play, England)  "
      ]
     },
     "execution_count": 5,
     "metadata": {},
     "output_type": "execute_result"
    }
   ],
   "source": [
    "# Display the dataset\n",
    "\n",
    "pd.set_option('display.max_colwidth', None)\n",
    "df[['Name', \"Description\", \"text\"]].head()"
   ]
  },
  {
   "cell_type": "code",
   "execution_count": 6,
   "metadata": {},
   "outputs": [
    {
     "data": {
      "text/plain": [
       "(55, 5)"
      ]
     },
     "execution_count": 6,
     "metadata": {},
     "output_type": "execute_result"
    }
   ],
   "source": [
    "df.shape"
   ]
  },
  {
   "cell_type": "markdown",
   "metadata": {},
   "source": [
    "# 5. Compare the performance of the chatbot with and without customization\n",
    "\n",
    "This section compares how the chatbot responds with and without access to the character dataset. The first version just uses the base model, so it’s answering based on general knowledge. The second one pulls in relevant info using LangChain's retrieval setup, which makes the responses more grounded and specific to the dataset. This helps show the impact of customization and why feeding in the right context actually makes a difference."
   ]
  },
  {
   "cell_type": "markdown",
   "metadata": {},
   "source": [
    "## 5.1 Define function to retrieve responses from the base model without customization"
   ]
  },
  {
   "cell_type": "code",
   "execution_count": 7,
   "metadata": {},
   "outputs": [],
   "source": [
    "# Define helper function to retrieve responses without customization\n",
    "\n",
    "def chatbot_without_customization(question):\n",
    "    client = openai.OpenAI(\n",
    "        api_key=openai.api_key,\n",
    "        base_url=openai.api_base\n",
    "    )\n",
    "\n",
    "    response = client.chat.completions.create(\n",
    "        model=\"gpt-3.5-turbo\",\n",
    "        messages=[\n",
    "            {\"role\": \"user\", \"content\": question}\n",
    "        ],\n",
    "        max_tokens=150\n",
    "    )\n",
    "    return response.choices[0].message.content.strip()\n",
    "\n"
   ]
  },
  {
   "cell_type": "markdown",
   "metadata": {},
   "source": [
    "## 5.2 Custom Chatbot Setup with LangChain + RAG: Embeddings, Retrieval, and Chat Model Integration\n",
    "\n",
    "This block sets up the full flow for a retrieval-augmented chatbot using LangChain and OpenAI. The dataset is first loaded into a document format compatible with LangChain, a framework that helps manage the different parts of a language model workflow—like connecting to models, managing context, and plugging in retrieval systems like vector stores. \n",
    "\n",
    "LangChain was the chosen framework as it strikes a good balance between flexibility and ease of use. It supports both quick prototypes and more complex use cases, with built-in tools for retrieval, memory, chains, and model integrations. For this project, LangChain made it easy to connect the OpenAI model with the character dataset using embeddings and FAISS, without needing to write a custom retrieval pipeline from scratch.\n",
    "\n",
    "Embeddings are generated using OpenAI’s embedding model, which turns each character description into a numeric representation that captures its meaning. These are stored in a FAISS vector store, which allows fast similarity searches when a question comes in—so the chatbot can retrieve the most relevant character data. Embeddings are used to represent text as high-dimensional vectors based on meaning. Instead of doing keyword matching, the system compares the user’s question to the character descriptions using vector similarity. This allows it to retrieve the most relevant entries even when the wording doesn’t match exactly. OpenAI’s text-embedding-ada-002 model was used here because it’s lightweight, reliable, and integrates well with LangChain.\n",
    "\n",
    "The gpt-3.5-turbo model was selected because it offers a strong balance between performance, cost, and speed. It’s optimized for chat-like interactions, making it well-suited for conversational tasks like this custom chatbot. Compared to older models (like text-davinci-003), it handles dialogue better, supports longer context windows, and is more efficient in terms of token usage. Since the goal of this project is to create a chatbot that can respond naturally and contextually based on a dataset, gpt-3.5-turbo was the most practical and capable choice available. The gpt-3.5-turbo model is connected using LangChain’s ChatOpenAI, and the retrieval and model are tied together through ConversationalRetrievalChain. That setup handles everything from pulling context to generating a response.\n",
    "\n",
    "A helper function wraps it all into a simple call, making it easier to trigger responses based on user questions. The result is a chatbot that’s not just guessing—it’s pulling in actual context from the dataset and responding accordingly."
   ]
  },
  {
   "cell_type": "code",
   "execution_count": null,
   "metadata": {},
   "outputs": [],
   "source": [
    "\n",
    "# Load documents into LangChain\n",
    "loader = DataFrameLoader(df, page_content_column='text')\n",
    "documents = loader.load()\n",
    "\n",
    "# Use embeddings with  Vocareum custom endpoint\n",
    "embeddings = OpenAIEmbeddings(\n",
    "    openai_api_key=openai.api_key,\n",
    "    openai_api_base=openai.api_base\n",
    ")\n",
    "\n",
    "# Create FAISS vectorstore \n",
    "vectorstore = FAISS.from_documents(documents, embeddings)\n",
    "\n",
    "# Setup the chat model with custom endpoint\n",
    "chat_model = ChatOpenAI(\n",
    "    model_name=\"gpt-3.5-turbo\",\n",
    "    openai_api_key=openai.api_key,\n",
    "    openai_api_base=openai.api_base\n",
    ")\n",
    "\n",
    "# Setup LangChain RAG \n",
    "retriever = vectorstore.as_retriever()\n",
    "qa_chain = ConversationalRetrievalChain.from_llm(chat_model, retriever)\n",
    "\n",
    "\n",
    "# Define helper function to retrieve responses with customization leveraging LangChain\n",
    "def chatbot_with_langchain(question, chat_history=[]):\n",
    "    qa_chain = ConversationalRetrievalChain.from_llm(chat_model, retriever)\n",
    "    result = qa_chain.invoke({\"question\": question, \"chat_history\": chat_history})\n",
    "    return result['answer']"
   ]
  },
  {
   "cell_type": "markdown",
   "metadata": {},
   "source": [
    "## 5.3 Retrieve responses and compare model performance with and without customization\n",
    "\n",
    "\n",
    "\n",
    "Here’s a quick test using a few example questions to compare how the chatbot performs without any customization versus when it's using the custom character data with LangChain. This helps show the difference in response quality and how much context matters when answering character-specific questions."
   ]
  },
  {
   "cell_type": "code",
   "execution_count": 9,
   "metadata": {},
   "outputs": [
    {
     "name": "stdout",
     "output_type": "stream",
     "text": [
      "Question: Who is Jack and what issues is he facing?\n",
      "\n",
      "Answer WITHOUT customization:\n",
      "It is not clear who \"Jack\" is without more context. This could refer to anyone in the world who is facing a variety of issues. Some common issues that people named Jack or anyone else may face include financial struggles, relationship problems, mental health issues, work-related stress, and health concerns, among others. Without more information, it is difficult to determine specifically what issues Jack may be facing.\n",
      "---\n",
      "Answer WITH LangChain RAG customization:\n",
      "Jack is a middle-aged successful businessman who is Sarah's boss and married to Alice. He has a no-nonsense attitude but is loyal to his friends and family. Based on the context provided, there is no specific information about Jack facing any particular issues.\n",
      "================================================================================\n",
      "\n",
      "Question: How is Sarah related to Jack?\n",
      "\n",
      "Answer WITHOUT customization:\n",
      "It depends on the specific context or information provided. Sarah could be Jack's sister, daughter, wife, cousin, niece, aunt, or any other familial relation depending on their respective family dynamics. It is not possible to determine the exact relation between Sarah and Jack without more information.\n",
      "---\n",
      "Answer WITH LangChain RAG customization:\n",
      "Sarah is Jack's employee.\n",
      "================================================================================\n",
      "\n",
      "Question: Who is Alice?\n",
      "\n",
      "Answer WITHOUT customization:\n",
      "Alice is a fictional character who first appeared in Lewis Carroll's book \"Alice's Adventures in Wonderland\" published in 1865. She is a young girl who falls down a rabbit hole into a fantasy world filled with peculiar creatures and nonsensical events. Alice is known for her curiosity, intelligence, and strong will as she navigates through the whimsical world of Wonderland.\n",
      "---\n",
      "Answer WITH LangChain RAG customization:\n",
      "Alice is a warm and nurturing mother in her late 30s, who is married to Jack and has a daughter named Emily. She is kind-hearted, empathetic, and can be overly protective of her children, often prone to worrying.\n",
      "================================================================================\n",
      "\n"
     ]
    }
   ],
   "source": [
    "questions = [\n",
    "    \"Who is Jack and what issues is he facing?\",\n",
    "    \"How is Sarah related to Jack?\",\n",
    "    \"Who is Alice?\"\n",
    "]\n",
    "\n",
    "for q in questions:\n",
    "    print(f\"Question: {q}\\n\")\n",
    "    \n",
    "    print(\"Answer WITHOUT customization:\")\n",
    "    print(chatbot_without_customization(q))\n",
    "    print(\"---\")\n",
    "    \n",
    "    print(\"Answer WITH LangChain RAG customization:\")\n",
    "    print(chatbot_with_langchain(q))\n",
    "    print(\"=\"*80 + \"\\n\")"
   ]
  },
  {
   "cell_type": "markdown",
   "metadata": {},
   "source": [
    "The comparison makes it pretty clear that once the chatbot is connected to the custom character dataset using LangChain and RAG, the quality of responses improves. Without customization, the answers are vague and generic—basically what you'd expect from a model guessing without context. With customization, the responses are more specific, accurate, and tied directly to the characters in the dataset.\n",
    "\n",
    "This shows how useful embedding-based retrieval is when the goal is to answer questions based on a specific set of information rather than relying on the model's general training."
   ]
  },
  {
   "cell_type": "markdown",
   "metadata": {},
   "source": [
    "# 6. Next Steps that could help get better results"
   ]
  },
  {
   "cell_type": "markdown",
   "metadata": {},
   "source": [
    "* Add memory or chat history tracking to allow for more natural, multi-turn conversations.\n",
    "\n",
    "* Improve dataset structure by including clearer labels or tags (e.g. roles, traits, relationships) to enhance retrieval quality.\n",
    "\n",
    "* Switch to GPT-4 for even more nuanced understanding (if available via the API key/environment).\n",
    "\n"
   ]
  }
 ],
 "metadata": {
  "kernelspec": {
   "display_name": "pytorch_env_310",
   "language": "python",
   "name": "python3"
  },
  "language_info": {
   "codemirror_mode": {
    "name": "ipython",
    "version": 3
   },
   "file_extension": ".py",
   "mimetype": "text/x-python",
   "name": "python",
   "nbconvert_exporter": "python",
   "pygments_lexer": "ipython3",
   "version": "3.10.0"
  }
 },
 "nbformat": 4,
 "nbformat_minor": 2
}
